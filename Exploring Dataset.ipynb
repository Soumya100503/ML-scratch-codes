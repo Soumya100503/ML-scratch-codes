{
 "cells": [
  {
   "cell_type": "code",
   "execution_count": null,
   "id": "8d0dcba5",
   "metadata": {},
   "outputs": [],
   "source": [
    "#Part 3\n",
    "\"\"\"\n",
    "AlexNet: \n",
    "The model was proposed in 2012 in the research paper named Imagenet Classification with Deep Convolution Neural Network by Alex Krizhevsky and his colleagues.\n",
    "The Alexnet has eight layers with learnable parameters. The model consists of five layers with a combination of max pooling followed by 3 fully connected layers and they use Relu activation in each of these layers except the output layer.\n",
    "They found out that using the relu as an activation function accelerated the speed of the training process by almost six times. \n",
    "They also used the dropout layers, that prevented their model from overfitting. Further, the model is trained on the Imagenet dataset. \n",
    "The Imagenet dataset has almost 14 million images across a thousand classes.\n",
    "\n",
    "ImageNet:\n",
    "ImageNet is a large-scale dataset of annotated images, which was created to serve as a benchmark for object recognition algorithms.\n",
    "It ShapeNet:contains more than 14 million images and 20,000 categories. \n",
    "The dataset was first introduced in 2009 and has been used in various computer vision tasks, including object recognition, detection, and localization.\n",
    "Image-level annotations indicate the presence or absence of an object class in an image, such as \"there are tigers in this image\" or \"there are no tigers in this image\". \n",
    "ImageNet uses a variant of the broad WordNet schema to categorize objects, augmented with 120 categories of dog breeds to showcase fine-grained classification. \n",
    "\n",
    "ShapeNet:\n",
    "ShapeNet is a large-scale dataset of 3D models, which was created to support research in computer vision and machine learning.\n",
    "It contains more than 55,000 3D models in various categories, such as chairs, tables, and cars. Each model is represented as a mesh of triangles, with associated texture and material information.\n",
    "It covers 55 common object categories with about 51,300 unique 3D models. \n",
    "The 12 object categories of PASCAL 3D+, a popular computer vision 3D benchmark dataset, are all covered by ShapeNetCore.\n",
    "\n",
    "ModelNet:\n",
    "ModelNet is another dataset of 3D models, which was created to support research in 3D object recognition. \n",
    "It contains more than 127,000 3D models in 662 categories, such as airplanes, chairs, and lamps.\n",
    "Each model is represented as a voxel grid, which is a 3D array of binary values indicating whether a voxel is inside or outside the object.\n",
    "\n",
    "CADNet:\n",
    "CADNet is a deep learning model that was trained on a dataset of 3D CAD models to perform 3D object classification. \n",
    "The dataset contains more than 12,000 3D models in 10 categories, such as chairs, tables, and lamps.\n",
    "Each model is represented as a voxel grid, and the CADNet model is trained to classify the objects based on their voxel representation.\n",
    "\n",
    "CADSketchNet:\n",
    "CADSketchNet is a deep learning model that was trained on a dataset of 3D CAD models and their corresponding 2D sketches to perform 3D object reconstruction. \n",
    "The dataset contains more than 4,000 3D CAD models and their corresponding 2D sketches.\n",
    "The CADSketchNet model takes as input a 2D sketch and produces a 3D voxel grid representation of the object.\n",
    "\"\"\"\n"
   ]
  }
 ],
 "metadata": {
  "kernelspec": {
   "display_name": "Python 3 (ipykernel)",
   "language": "python",
   "name": "python3"
  },
  "language_info": {
   "codemirror_mode": {
    "name": "ipython",
    "version": 3
   },
   "file_extension": ".py",
   "mimetype": "text/x-python",
   "name": "python",
   "nbconvert_exporter": "python",
   "pygments_lexer": "ipython3",
   "version": "3.9.13"
  }
 },
 "nbformat": 4,
 "nbformat_minor": 5
}
